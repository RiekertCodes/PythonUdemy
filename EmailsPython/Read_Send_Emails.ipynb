{
 "cells": [
  {
   "cell_type": "code",
   "execution_count": null,
   "id": "1abc153a",
   "metadata": {},
   "outputs": [],
   "source": [
    "import smtplib"
   ]
  },
  {
   "cell_type": "code",
   "execution_count": null,
   "id": "76cfd1a1",
   "metadata": {},
   "outputs": [],
   "source": [
    "smtp_object = smtplib.SMTP('smtp.gmail.com',587)"
   ]
  },
  {
   "cell_type": "code",
   "execution_count": null,
   "id": "3d4095fa",
   "metadata": {},
   "outputs": [],
   "source": [
    "smtp_object.ehlo()"
   ]
  },
  {
   "cell_type": "code",
   "execution_count": null,
   "id": "88c95843",
   "metadata": {},
   "outputs": [],
   "source": [
    "smtp_object.starttls()"
   ]
  },
  {
   "cell_type": "code",
   "execution_count": null,
   "id": "c830f0db",
   "metadata": {},
   "outputs": [],
   "source": [
    "import getpass"
   ]
  },
  {
   "cell_type": "code",
   "execution_count": null,
   "id": "e395789c",
   "metadata": {},
   "outputs": [],
   "source": [
    "password = getpass.getpass('Password please:')"
   ]
  },
  {
   "cell_type": "code",
   "execution_count": null,
   "id": "175939aa",
   "metadata": {},
   "outputs": [],
   "source": [
    "email = getpass.getpass(\"Email: \")\n",
    "password = getpass.getpass('Password: ')\n",
    "smtp_object.login(email,password)"
   ]
  },
  {
   "cell_type": "code",
   "execution_count": null,
   "id": "9ffe0cb5",
   "metadata": {},
   "outputs": [],
   "source": [
    "from_adres = email\n",
    "to_adress = email\n",
    "subject= input(\"Enter subject: \")\n",
    "body = input(\"Enter the body: \")\n",
    "\n",
    "msg = \"Subject: \"+subject+'\\n'+body\n",
    "\n",
    "smtp_object.sendmail(from_adres, to_adress,msg)"
   ]
  },
  {
   "cell_type": "markdown",
   "id": "f740cc45",
   "metadata": {},
   "source": [
    "## CHECK RECIEVED EMAILS"
   ]
  },
  {
   "cell_type": "code",
   "execution_count": null,
   "id": "ee441bfe",
   "metadata": {},
   "outputs": [],
   "source": [
    "import imaplib"
   ]
  },
  {
   "cell_type": "code",
   "execution_count": null,
   "id": "43cd4527",
   "metadata": {},
   "outputs": [],
   "source": [
    "M = imaplib.IMAP4_SSL('imap.gmail.com')"
   ]
  },
  {
   "cell_type": "code",
   "execution_count": null,
   "id": "6e3845d1",
   "metadata": {},
   "outputs": [],
   "source": [
    "import getpass"
   ]
  },
  {
   "cell_type": "code",
   "execution_count": null,
   "id": "8ec319ef",
   "metadata": {},
   "outputs": [],
   "source": [
    "email = getpass.getpass(\"Email: \")\n",
    "password = getpass.getpass(\"Password: \")"
   ]
  },
  {
   "cell_type": "code",
   "execution_count": null,
   "id": "34caa448",
   "metadata": {},
   "outputs": [],
   "source": [
    "M.login(email,password)"
   ]
  },
  {
   "cell_type": "code",
   "execution_count": null,
   "id": "eefb8353",
   "metadata": {},
   "outputs": [],
   "source": [
    "M.list()"
   ]
  },
  {
   "cell_type": "code",
   "execution_count": null,
   "id": "b6f54a0b",
   "metadata": {},
   "outputs": [],
   "source": [
    "typ, data = M.search(None, 'SUBJECT \"tESTING\"')"
   ]
  },
  {
   "cell_type": "code",
   "execution_count": null,
   "id": "4c916d54",
   "metadata": {},
   "outputs": [],
   "source": [
    "email_id = data[0]"
   ]
  },
  {
   "cell_type": "code",
   "execution_count": null,
   "id": "dc5a8b65",
   "metadata": {},
   "outputs": [],
   "source": [
    "result, email_data = M.fetch(email_id, '(RFC822)')"
   ]
  },
  {
   "cell_type": "code",
   "execution_count": null,
   "id": "eae8019b",
   "metadata": {},
   "outputs": [],
   "source": [
    "raw_email = email_data[0][1]"
   ]
  },
  {
   "cell_type": "code",
   "execution_count": null,
   "id": "06f05663",
   "metadata": {},
   "outputs": [],
   "source": [
    "raw_email_string = raw_email.decode('utf-8')"
   ]
  },
  {
   "cell_type": "code",
   "execution_count": null,
   "id": "6c5105bd",
   "metadata": {},
   "outputs": [],
   "source": [
    "import email"
   ]
  },
  {
   "cell_type": "code",
   "execution_count": null,
   "id": "99ae584e",
   "metadata": {},
   "outputs": [],
   "source": [
    "email_message = email.message_from_string(raw_email_string)"
   ]
  },
  {
   "cell_type": "code",
   "execution_count": null,
   "id": "f96d128c",
   "metadata": {},
   "outputs": [],
   "source": [
    "for part in email_message.walk():\n",
    "    if part.get_content_type() == 'text/plain':\n",
    "        body = part.get_payload(decode=True)\n",
    "        print(body)"
   ]
  }
 ],
 "metadata": {
  "kernelspec": {
   "display_name": "Python 3",
   "language": "python",
   "name": "python3"
  },
  "language_info": {
   "codemirror_mode": {
    "name": "ipython",
    "version": 3
   },
   "file_extension": ".py",
   "mimetype": "text/x-python",
   "name": "python",
   "nbconvert_exporter": "python",
   "pygments_lexer": "ipython3",
   "version": "3.8.8"
  }
 },
 "nbformat": 4,
 "nbformat_minor": 5
}
