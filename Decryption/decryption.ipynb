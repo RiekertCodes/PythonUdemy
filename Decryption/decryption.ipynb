{
 "cells": [
  {
   "cell_type": "code",
   "execution_count": 11,
   "id": "c15caa39",
   "metadata": {},
   "outputs": [],
   "source": [
    "import hashlib"
   ]
  },
  {
   "cell_type": "code",
   "execution_count": 12,
   "id": "e8b7fd4d",
   "metadata": {},
   "outputs": [
    {
     "data": {
      "text/plain": [
       "{'blake2b',\n",
       " 'blake2s',\n",
       " 'md4',\n",
       " 'md5',\n",
       " 'md5-sha1',\n",
       " 'mdc2',\n",
       " 'ripemd160',\n",
       " 'sha1',\n",
       " 'sha224',\n",
       " 'sha256',\n",
       " 'sha384',\n",
       " 'sha3_224',\n",
       " 'sha3_256',\n",
       " 'sha3_384',\n",
       " 'sha3_512',\n",
       " 'sha512',\n",
       " 'sha512_224',\n",
       " 'sha512_256',\n",
       " 'shake_128',\n",
       " 'shake_256',\n",
       " 'sm3',\n",
       " 'whirlpool'}"
      ]
     },
     "execution_count": 12,
     "metadata": {},
     "output_type": "execute_result"
    }
   ],
   "source": [
    "hashlib.algorithms_available"
   ]
  },
  {
   "cell_type": "code",
   "execution_count": 13,
   "id": "9b51b8ce",
   "metadata": {},
   "outputs": [],
   "source": [
    "hash_obj = hashlib.sha3_256()"
   ]
  },
  {
   "cell_type": "code",
   "execution_count": 14,
   "id": "7367c910",
   "metadata": {},
   "outputs": [],
   "source": [
    "hash_obj.update(b'Hello')"
   ]
  },
  {
   "cell_type": "code",
   "execution_count": 15,
   "id": "3dffd033",
   "metadata": {},
   "outputs": [
    {
     "data": {
      "text/plain": [
       "'8ca66ee6b2fe4bb928a8e3cd2f508de4119c0895f22e011117e22cf9b13de7ef'"
      ]
     },
     "execution_count": 15,
     "metadata": {},
     "output_type": "execute_result"
    }
   ],
   "source": [
    "hash_obj.hexdigest()"
   ]
  },
  {
   "cell_type": "code",
   "execution_count": 16,
   "id": "5294ad5a",
   "metadata": {},
   "outputs": [],
   "source": [
    "hash_obj.update(b'password123')"
   ]
  },
  {
   "cell_type": "code",
   "execution_count": 17,
   "id": "e7694820",
   "metadata": {},
   "outputs": [
    {
     "data": {
      "text/plain": [
       "'f02eac686f359d6d31592013150dd214a6d5358e8fb5445e35378a7ca98c94b2'"
      ]
     },
     "execution_count": 17,
     "metadata": {},
     "output_type": "execute_result"
    }
   ],
   "source": [
    "hash_obj.hexdigest()"
   ]
  },
  {
   "cell_type": "code",
   "execution_count": 18,
   "id": "388a5e88",
   "metadata": {},
   "outputs": [],
   "source": [
    "from cryptography.fernet import Fernet"
   ]
  },
  {
   "cell_type": "code",
   "execution_count": 19,
   "id": "4d0f0977",
   "metadata": {},
   "outputs": [],
   "source": [
    "key = Fernet.generate_key()"
   ]
  },
  {
   "cell_type": "code",
   "execution_count": 20,
   "id": "e19e0b80",
   "metadata": {},
   "outputs": [
    {
     "data": {
      "text/plain": [
       "b'DACy3dOpWQzoS2nTsiOoq5y-66FzYBSluNoBt7da-qY='"
      ]
     },
     "execution_count": 20,
     "metadata": {},
     "output_type": "execute_result"
    }
   ],
   "source": [
    "key"
   ]
  },
  {
   "cell_type": "code",
   "execution_count": 21,
   "id": "85ac0bc6",
   "metadata": {},
   "outputs": [],
   "source": [
    "cipher = Fernet(key)"
   ]
  },
  {
   "cell_type": "code",
   "execution_count": 22,
   "id": "0b0ed685",
   "metadata": {},
   "outputs": [
    {
     "data": {
      "text/plain": [
       "b'gAAAAABg7evVGOFiGYTtQddOhof7R0oCHLbCwIodeKK5yYyNCnvUgEDhutQvbtkhiUiLPxbGFXLbknjepiH4nPoe4z2tednGWQ=='"
      ]
     },
     "execution_count": 22,
     "metadata": {},
     "output_type": "execute_result"
    }
   ],
   "source": [
    "cipher.encrypt(b'Hi how are you')"
   ]
  },
  {
   "cell_type": "code",
   "execution_count": 23,
   "id": "b9f43e9e",
   "metadata": {},
   "outputs": [],
   "source": [
    "other_cypher = Fernet(b'gP9OoZenqzIGf6XwvJhIh6pI9w_R-lLHFocA-8yHD4s=')"
   ]
  },
  {
   "cell_type": "code",
   "execution_count": 24,
   "id": "bea6f3c5",
   "metadata": {},
   "outputs": [
    {
     "data": {
      "text/plain": [
       "b'Hi how are you'"
      ]
     },
     "execution_count": 24,
     "metadata": {},
     "output_type": "execute_result"
    }
   ],
   "source": [
    "other_cypher.decrypt(b'gAAAAABg7etDeK_2-NpjVG2jehhheMv5ebFj94UlVbdJtMV6y6JIL5GmEctV8k_3OEkWjCVOc-CReA3jI-55YzUaoTkfnDtvjg==')"
   ]
  },
  {
   "cell_type": "code",
   "execution_count": 25,
   "id": "59d6efb7",
   "metadata": {},
   "outputs": [],
   "source": [
    "keyword = b'123'"
   ]
  },
  {
   "cell_type": "code",
   "execution_count": 26,
   "id": "869e6490",
   "metadata": {},
   "outputs": [],
   "source": [
    "key = hashlib.sha3_256(keyword)"
   ]
  },
  {
   "cell_type": "code",
   "execution_count": 27,
   "id": "2aa75ae9",
   "metadata": {},
   "outputs": [
    {
     "data": {
      "text/plain": [
       "<_sha3.sha3_256 at 0x1f31ee62730>"
      ]
     },
     "execution_count": 27,
     "metadata": {},
     "output_type": "execute_result"
    }
   ],
   "source": [
    "key"
   ]
  },
  {
   "cell_type": "code",
   "execution_count": 28,
   "id": "633f54e2",
   "metadata": {},
   "outputs": [
    {
     "data": {
      "text/plain": [
       "b'\\xa0:\\xb1\\x9b\\x86o\\xc5\\x85\\xb5\\xcb\\x18\\x12\\xa2\\xf6<\\xa8a\\xe7\\xe7d>\\xe5\\xd4?\\xd7\\x10kb7%\\xfdg'"
      ]
     },
     "execution_count": 28,
     "metadata": {},
     "output_type": "execute_result"
    }
   ],
   "source": [
    "key.digest()"
   ]
  },
  {
   "cell_type": "code",
   "execution_count": 29,
   "id": "1bc94929",
   "metadata": {},
   "outputs": [],
   "source": [
    "import base64"
   ]
  },
  {
   "cell_type": "code",
   "execution_count": 30,
   "id": "cee4a67e",
   "metadata": {},
   "outputs": [],
   "source": [
    "key_bytes = key.digest()"
   ]
  },
  {
   "cell_type": "code",
   "execution_count": 32,
   "id": "277669df",
   "metadata": {},
   "outputs": [],
   "source": [
    "fernet_key = base64.urlsafe_b64encode(key_bytes)"
   ]
  },
  {
   "cell_type": "code",
   "execution_count": 33,
   "id": "413c1e2c",
   "metadata": {},
   "outputs": [
    {
     "data": {
      "text/plain": [
       "b'oDqxm4ZvxYW1yxgSovY8qGHn52Q-5dQ_1xBrYjcl_Wc='"
      ]
     },
     "execution_count": 33,
     "metadata": {},
     "output_type": "execute_result"
    }
   ],
   "source": [
    "fernet_key"
   ]
  },
  {
   "cell_type": "code",
   "execution_count": 34,
   "id": "82dc26d7",
   "metadata": {},
   "outputs": [],
   "source": [
    "custom_cipher = Fernet(fernet_key)"
   ]
  },
  {
   "cell_type": "code",
   "execution_count": 35,
   "id": "18201163",
   "metadata": {},
   "outputs": [
    {
     "data": {
      "text/plain": [
       "b'gAAAAABg7ex6mDeZet4vW34M5xpFytJ0mReFoM0vhKjddBhKnwFAVrubEWF4OBNchgeo1M3urKC0kmES-KOd49P5EZnQxJdGtg=='"
      ]
     },
     "execution_count": 35,
     "metadata": {},
     "output_type": "execute_result"
    }
   ],
   "source": [
    "custom_cipher.encrypt(b'Hello')"
   ]
  },
  {
   "cell_type": "code",
   "execution_count": 36,
   "id": "bdae0ed4",
   "metadata": {},
   "outputs": [
    {
     "data": {
      "text/plain": [
       "b'Hello'"
      ]
     },
     "execution_count": 36,
     "metadata": {},
     "output_type": "execute_result"
    }
   ],
   "source": [
    "custom_cipher.decrypt(b'gAAAAABg7ex6mDeZet4vW34M5xpFytJ0mReFoM0vhKjddBhKnwFAVrubEWF4OBNchgeo1M3urKC0kmES-KOd49P5EZnQxJdGtg==')"
   ]
  },
  {
   "cell_type": "code",
   "execution_count": null,
   "id": "e2cc5ef1",
   "metadata": {},
   "outputs": [],
   "source": []
  }
 ],
 "metadata": {
  "kernelspec": {
   "display_name": "Python 3",
   "language": "python",
   "name": "python3"
  },
  "language_info": {
   "codemirror_mode": {
    "name": "ipython",
    "version": 3
   },
   "file_extension": ".py",
   "mimetype": "text/x-python",
   "name": "python",
   "nbconvert_exporter": "python",
   "pygments_lexer": "ipython3",
   "version": "3.8.8"
  }
 },
 "nbformat": 4,
 "nbformat_minor": 5
}
