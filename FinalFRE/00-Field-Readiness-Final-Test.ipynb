{
 "cells": [
  {
   "cell_type": "markdown",
   "metadata": {
    "collapsed": true
   },
   "source": [
    "# Final Field Readiness Test \n",
    "\n",
    "** For this test you will be using Object Oriented Programming to create an object that uses a modified Caeser Cipher. Check out the video for an explanation of how the object will work. The basic idea is the following, given a message such as \"hello world\", the encryption should perform the following steps:**\n",
    "\n",
    "** The encryption method you will create: **\n",
    "\n",
    "1. Accept a string, such as: \"hello world\"\n",
    "2. Add in a random letter in every other index position in the string, for example: 'hueqlzlpom cwgosrhlbdg'\n",
    "3. Then reverse this string, for example: 'gdblhrsogwc moplzlqeuh'\n",
    "4. Then create a shuffled version of the alphabet (remember to set a seed to the random.seed() so you can get this shuffled version again by providing the same seed number).\n",
    "5. Just like a classic Caeser cipher, match up the index of each letter and then encrypt the letters using this shuffled alphabet.\n",
    "\n",
    "The end result will be a string something like \"divgkjocdze bcrgqghywk\" for our previous example.\n",
    "\n",
    "To decrypt this, reverse the steps. The hardest step to reverse is the randomized shuffling of the alphabet, to regain the same shuffling, you will need the seed key. The method for the decryption will accept this as an argument.\n",
    "\n",
    "The \"skeleton\" of the code has been outlined for you to fill out below. Best of luck!"
   ]
  },
  {
   "cell_type": "code",
   "execution_count": 3,
   "metadata": {},
   "outputs": [],
   "source": [
    "# Imports you might need\n",
    "import string\n",
    "import random"
   ]
  },
  {
   "cell_type": "code",
   "execution_count": 16,
   "metadata": {},
   "outputs": [],
   "source": [
    "class Encryption():\n",
    "    \n",
    "    def __init__(self,seed):\n",
    "        random.seed(seed)\n",
    "        self.seed = seed\n",
    "        self.encrypted_word = ''\n",
    "\n",
    "        self.true_alphabet = list(string.ascii_lowercase)\n",
    "        self.rand_alphabet = random.sample(self.true_alphabet, len(self.true_alphabet))\n",
    "        \n",
    "    def encryption(self,message):\n",
    "        output = ''\n",
    "        for i in range(len(message)):\n",
    "            output += message[i]\n",
    "            output += random.sample(self.true_alphabet, 1)[0]\n",
    "        \n",
    "        self.encrypted_word = output[::-1]\n",
    "        \n",
    "        \n",
    "        encrypted_phase_two = list(range(len(self.encrypted_word)))\n",
    "        \n",
    "        for i, letter in enumerate(self.encrypted_word.lower()):\n",
    "            if letter in self.true_alphabet:\n",
    "                index = self.true_alphabet.index(letter)\n",
    "                encrypted_phase_two[i] = self.rand_alphabet[index]\n",
    "            else:\n",
    "                encrypted_phase_two[i] = letter\n",
    "        self.encrypted_word = ''.join(encrypted_phase_two)\n",
    "        \n",
    "        return self.encrypted_word\n",
    "     \n",
    "   \n",
    "    def decryption(self,message,seed):\n",
    "        random.seed(seed)\n",
    "        \n",
    "        session_rand_alphabet = random.sample(self.true_alphabet, len(self.true_alphabet))\n",
    "        \n",
    "        decrypted_message = list(range(len(message)))\n",
    "        \n",
    "        for i,letter in enumerate(message.lower()):\n",
    "            if letter in self.true_alphabet:\n",
    "                index = session_rand_alphabet.index(letter)\n",
    "                decrypted_message[i] = self.true_alphabet[index]\n",
    "            else:\n",
    "                decrypted_message[i] = letter\n",
    "        \n",
    "        decrypted_message = ''.join(decrypted_message)[::-1]\n",
    "        \n",
    "        return decrypted_message[::2]"
   ]
  },
  {
   "cell_type": "markdown",
   "metadata": {},
   "source": [
    "**Example of this in action:**"
   ]
  },
  {
   "cell_type": "code",
   "execution_count": 17,
   "metadata": {},
   "outputs": [],
   "source": [
    "e = Encryption(20)"
   ]
  },
  {
   "cell_type": "code",
   "execution_count": 18,
   "metadata": {},
   "outputs": [
    {
     "data": {
      "text/plain": [
       "'divgkjocdze bcrgqghywk'"
      ]
     },
     "execution_count": 18,
     "metadata": {},
     "output_type": "execute_result"
    }
   ],
   "source": [
    "e.encryption('hello world')"
   ]
  },
  {
   "cell_type": "code",
   "execution_count": 19,
   "metadata": {},
   "outputs": [
    {
     "data": {
      "text/plain": [
       "'hello world'"
      ]
     },
     "execution_count": 19,
     "metadata": {},
     "output_type": "execute_result"
    }
   ],
   "source": [
    "e.decryption('divgkjocdze bcrgqghywk',20)"
   ]
  }
 ],
 "metadata": {
  "kernelspec": {
   "display_name": "Python 3",
   "language": "python",
   "name": "python3"
  },
  "language_info": {
   "codemirror_mode": {
    "name": "ipython",
    "version": 3
   },
   "file_extension": ".py",
   "mimetype": "text/x-python",
   "name": "python",
   "nbconvert_exporter": "python",
   "pygments_lexer": "ipython3",
   "version": "3.8.8"
  }
 },
 "nbformat": 4,
 "nbformat_minor": 2
}
