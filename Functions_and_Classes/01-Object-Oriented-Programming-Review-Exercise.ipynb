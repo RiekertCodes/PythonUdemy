{
 "cells": [
  {
   "cell_type": "markdown",
   "metadata": {
    "collapsed": true
   },
   "source": [
    "# OOP Review Exercises\n",
    "\n",
    "Since OOP can be complex for recruits, let's give you some quick exercises to check your understanding!\n",
    "\n",
    "### Exercise 1\n",
    "\n",
    "** Create a Sphere class that accepts a radius upon instantiation and has a volume and surface area method. **"
   ]
  },
  {
   "cell_type": "code",
   "execution_count": 2,
   "metadata": {},
   "outputs": [],
   "source": [
    "class Sphere():\n",
    "    def __init__(self, r):\n",
    "        self.r = r\n",
    "        \n",
    "    def volume(self):\n",
    "        return (4/3) * 3.14 * (self.r**3)\n",
    "    \n",
    "    def surface_area(self):\n",
    "        return 4 * 3.14 * self.r**2"
   ]
  },
  {
   "cell_type": "markdown",
   "metadata": {},
   "source": [
    "___"
   ]
  },
  {
   "cell_type": "code",
   "execution_count": 3,
   "metadata": {},
   "outputs": [],
   "source": [
    "s = Sphere(1)"
   ]
  },
  {
   "cell_type": "code",
   "execution_count": 4,
   "metadata": {},
   "outputs": [
    {
     "data": {
      "text/plain": [
       "12.56"
      ]
     },
     "execution_count": 4,
     "metadata": {},
     "output_type": "execute_result"
    }
   ],
   "source": [
    "s.surface_area()"
   ]
  },
  {
   "cell_type": "code",
   "execution_count": 5,
   "metadata": {},
   "outputs": [
    {
     "data": {
      "text/plain": [
       "4.1866666666666665"
      ]
     },
     "execution_count": 5,
     "metadata": {},
     "output_type": "execute_result"
    }
   ],
   "source": [
    "s.volume()"
   ]
  },
  {
   "cell_type": "markdown",
   "metadata": {},
   "source": [
    "____"
   ]
  },
  {
   "cell_type": "markdown",
   "metadata": {},
   "source": [
    "## Exercise 2\n",
    "\n",
    "**For this exercise we will have several steps.**\n",
    "1. Create a class called GuessingGame.\n",
    "2. The class doesn't need any user provided arguments for instantiation.\n",
    "3. In the __init__ method have the class set a  self.rand_choice attribute to a random integer between 0-10 (use import random)\n",
    "4. Now create a method in the class called reset_random that will reset this self.rand_choice attribute\n",
    "5. Now create a method called guess that uses the input() function to accept a user guess for the random number. This method should print out a statement indicating whether or not the user guess was correct. Bonus: Add logic that will report back to the user to guess higher or lower next time they call the guess() method.\n",
    "\n",
    "**Check out the example code below for what the game should look like:**"
   ]
  },
  {
   "cell_type": "code",
   "execution_count": 6,
   "metadata": {},
   "outputs": [],
   "source": [
    "import random\n",
    "\n",
    "class GuessingGame():\n",
    "    def __init__(self):\n",
    "        self.rand_choice = random.randint(0,10)\n",
    "        \n",
    "    def reset_random(self):\n",
    "        self.rand_choice = random.randint(0,10)\n",
    "        \n",
    "    def guess(self):\n",
    "        num = int(input(\"Guess the number: \"))\n",
    "        if num == self.rand_choice:\n",
    "            print(\"Congratulations!!!\")\n",
    "        else:\n",
    "            if self.rand_choice > num:\n",
    "                print(\"Higher\")\n",
    "            else: \n",
    "                print(\"Lower\")"
   ]
  },
  {
   "cell_type": "markdown",
   "metadata": {},
   "source": [
    "____"
   ]
  },
  {
   "cell_type": "code",
   "execution_count": 7,
   "metadata": {},
   "outputs": [],
   "source": [
    "g = GuessingGame()"
   ]
  },
  {
   "cell_type": "code",
   "execution_count": 8,
   "metadata": {},
   "outputs": [
    {
     "data": {
      "text/plain": [
       "6"
      ]
     },
     "execution_count": 8,
     "metadata": {},
     "output_type": "execute_result"
    }
   ],
   "source": [
    "g.rand_choice"
   ]
  },
  {
   "cell_type": "code",
   "execution_count": 9,
   "metadata": {},
   "outputs": [],
   "source": [
    "g.reset_random()"
   ]
  },
  {
   "cell_type": "code",
   "execution_count": 10,
   "metadata": {},
   "outputs": [
    {
     "name": "stdout",
     "output_type": "stream",
     "text": [
      "Guess the number: 3\n",
      "Higher\n"
     ]
    }
   ],
   "source": [
    "g.guess()"
   ]
  },
  {
   "cell_type": "code",
   "execution_count": 12,
   "metadata": {},
   "outputs": [
    {
     "name": "stdout",
     "output_type": "stream",
     "text": [
      "Guess the number: 4\n",
      "Congratulations!!!\n"
     ]
    }
   ],
   "source": [
    "g.guess()"
   ]
  },
  {
   "cell_type": "markdown",
   "metadata": {},
   "source": [
    "**Best of luck on the exercises! Solutions are coming up next!**"
   ]
  }
 ],
 "metadata": {
  "anaconda-cloud": {},
  "kernelspec": {
   "display_name": "Python 3",
   "language": "python",
   "name": "python3"
  },
  "language_info": {
   "codemirror_mode": {
    "name": "ipython",
    "version": 3
   },
   "file_extension": ".py",
   "mimetype": "text/x-python",
   "name": "python",
   "nbconvert_exporter": "python",
   "pygments_lexer": "ipython3",
   "version": "3.8.8"
  }
 },
 "nbformat": 4,
 "nbformat_minor": 2
}
