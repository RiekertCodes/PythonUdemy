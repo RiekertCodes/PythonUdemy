{
 "cells": [
  {
   "cell_type": "markdown",
   "metadata": {},
   "source": [
    "# Orange Mission\n"
   ]
  },
  {
   "cell_type": "markdown",
   "metadata": {
    "collapsed": true
   },
   "source": [
    "Using the hidden link in the blog post, it looks like we have a new riddle to solve. Download and unzip the file from the link.\n",
    "\n",
    "Let's see what we can figure out from it.\n",
    "\n",
    "Best of luck Agent!"
   ]
  },
  {
   "cell_type": "code",
   "execution_count": 14,
   "metadata": {},
   "outputs": [],
   "source": [
    "import shutil"
   ]
  },
  {
   "cell_type": "code",
   "execution_count": 15,
   "metadata": {},
   "outputs": [],
   "source": [
    "shutil.unpack_archive('files/unzip_me_for_instructions.zip', 'the_extracted_files', 'zip')"
   ]
  },
  {
   "cell_type": "code",
   "execution_count": 16,
   "metadata": {},
   "outputs": [],
   "source": [
    "import os"
   ]
  },
  {
   "cell_type": "code",
   "execution_count": 17,
   "metadata": {},
   "outputs": [
    {
     "data": {
      "text/plain": [
       "['.ipynb_checkpoints',\n",
       " '03-Orange-Mission.ipynb',\n",
       " 'files',\n",
       " 'the_extracted_files']"
      ]
     },
     "execution_count": 17,
     "metadata": {},
     "output_type": "execute_result"
    }
   ],
   "source": [
    "os.listdir()"
   ]
  },
  {
   "cell_type": "code",
   "execution_count": 18,
   "metadata": {},
   "outputs": [
    {
     "data": {
      "text/plain": [
       "['Five', 'Four', 'Instructions.txt', 'One', 'Three', 'Two']"
      ]
     },
     "execution_count": 18,
     "metadata": {},
     "output_type": "execute_result"
    }
   ],
   "source": [
    "os.listdir('the_extracted_files')"
   ]
  },
  {
   "cell_type": "code",
   "execution_count": 19,
   "metadata": {},
   "outputs": [],
   "source": [
    "f = open('the_extracted_files/Instructions.txt')"
   ]
  },
  {
   "cell_type": "code",
   "execution_count": 20,
   "metadata": {},
   "outputs": [],
   "source": [
    "lines = f.readlines()"
   ]
  },
  {
   "cell_type": "code",
   "execution_count": 21,
   "metadata": {},
   "outputs": [
    {
     "name": "stdout",
     "output_type": "stream",
     "text": [
      "If you are reading this, then you successfully were able to decipher the blog post on The Gold Bugs website to find the link. \n",
      "\n",
      "\n",
      "\n",
      "The link led to a zip file. After unzipping the file you will notice this instructions.txt file and folders with many random txt files in them.\n",
      "\n",
      "\n",
      "\n",
      "Hidden within the text of these files are two links. You should be able to use regex to find the url links which will lead to the next phase as you go through every .txt file programmatically.\n",
      "\n",
      "\n",
      "\n",
      "One link leads to a download of a csv file, another to a set of instructions to follow for that csv file. \n",
      "\n",
      "\n",
      "\n",
      "The links will be in this form (note these are examples of the url form, not the actual links):\n",
      "\n",
      "\n",
      "\n",
      "https://drive.google.com/open?id=1tWJBFrSQL06qTZgkohs4t_a5Cu84AheLo\n",
      "\n",
      "\n",
      "\n",
      "and\n",
      "\n",
      "\n",
      "\n",
      "https://docs.google.com/document/d/Q-DcxM17nJm_El0aGsNnY7FajaogRviwja/edit\n",
      "\n",
      "\n",
      "\n",
      "Note how they start with https:// and then have a series of characters, including dots, underscores, forward slashes, and dashes as well.\n",
      "\n",
      "Use this information for your regular expressions.\n",
      "\n",
      "\n",
      "\n",
      "Download the csv file and follow the instructions in the other link for the next steps.\n",
      "\n",
      "\n",
      "\n",
      "Best of luck.\n"
     ]
    }
   ],
   "source": [
    "for line in lines:\n",
    "    print(line)"
   ]
  },
  {
   "cell_type": "code",
   "execution_count": 22,
   "metadata": {},
   "outputs": [],
   "source": [
    "import re"
   ]
  },
  {
   "cell_type": "code",
   "execution_count": 23,
   "metadata": {},
   "outputs": [],
   "source": [
    "test_p1 = 'https://drive.google.com/open?id=1tWJBFrSQL06qTZgkohs4t_a5Cu84AheLo'\n",
    "test_p2 = 'https://docs.google.com/document/d/Q-DcxM17nJm_El0aGsNnY7FajaogRviwja/edit'"
   ]
  },
  {
   "cell_type": "code",
   "execution_count": 25,
   "metadata": {},
   "outputs": [],
   "source": [
    "pattern = r'https://[-?/_=.\\w]+'"
   ]
  },
  {
   "cell_type": "code",
   "execution_count": 28,
   "metadata": {},
   "outputs": [
    {
     "data": {
      "text/plain": [
       "['https://drive.google.com/open?id=1tWJBFrSQL06qTZgkohs4t_a5Cu84AheLo']"
      ]
     },
     "execution_count": 28,
     "metadata": {},
     "output_type": "execute_result"
    }
   ],
   "source": [
    "re.findall(pattern, test_p1)"
   ]
  },
  {
   "cell_type": "code",
   "execution_count": 30,
   "metadata": {},
   "outputs": [],
   "source": [
    "def search(file, pattern=r'https://[-?/_=.\\w]+'):\n",
    "    f = open(file,'r')\n",
    "    text = f.read()\n",
    "    \n",
    "    if re.search(pattern, text):\n",
    "        return re.search(pattern, text)\n",
    "    else:\n",
    "        return ''"
   ]
  },
  {
   "cell_type": "code",
   "execution_count": 31,
   "metadata": {},
   "outputs": [],
   "source": [
    "import os"
   ]
  },
  {
   "cell_type": "code",
   "execution_count": 32,
   "metadata": {},
   "outputs": [],
   "source": [
    "results = []"
   ]
  },
  {
   "cell_type": "code",
   "execution_count": 33,
   "metadata": {},
   "outputs": [],
   "source": [
    "for folder, sub_folders, files in os.walk('the_extracted_files'):\n",
    "    \n",
    "    for f in files:\n",
    "        full_path = folder+'\\\\'+f # \\\\ for windows \\ for mac|linux\n",
    "        findings = search(full_path)\n",
    "        results.append(findings)"
   ]
  },
  {
   "cell_type": "code",
   "execution_count": 34,
   "metadata": {},
   "outputs": [
    {
     "name": "stdout",
     "output_type": "stream",
     "text": [
      "https://drive.google.com/open?id=1tWJBFrSQL06qTZgkohs4t_a5Cu84AheLo\n",
      "https://docs.google.com/document/d/1tWJBFrSQL06qTZgkohs4t_a5Cu84AheLocWTXQ-DcxM/edit?usp=sharing\n",
      "https://drive.google.com/file/d/17nJm_El0aGsNvaMZtnY7FajaogRviwja/view?usp=sharing\n"
     ]
    }
   ],
   "source": [
    "for r in results:\n",
    "    if r != '':\n",
    "        print(r.group())"
   ]
  },
  {
   "cell_type": "code",
   "execution_count": null,
   "metadata": {},
   "outputs": [],
   "source": []
  }
 ],
 "metadata": {
  "anaconda-cloud": {},
  "kernelspec": {
   "display_name": "Python 3",
   "language": "python",
   "name": "python3"
  },
  "language_info": {
   "codemirror_mode": {
    "name": "ipython",
    "version": 3
   },
   "file_extension": ".py",
   "mimetype": "text/x-python",
   "name": "python",
   "nbconvert_exporter": "python",
   "pygments_lexer": "ipython3",
   "version": "3.8.8"
  }
 },
 "nbformat": 4,
 "nbformat_minor": 2
}
