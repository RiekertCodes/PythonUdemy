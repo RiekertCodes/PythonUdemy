{
 "cells": [
  {
   "cell_type": "markdown",
   "metadata": {
    "collapsed": true
   },
   "source": [
    "# Red Mission Overview\n",
    "\n",
    "Welcome to the field agent. This is where your training really comes into play. Remember a real agent is never done learning. You will need to constantly adapt to whatever scenario your presented.\n",
    "\n",
    "It is time for you to find the RAINBOW Rogues. We were previously close to cracking this rogue network, but they realized we were on to them and it seems they have completely changed their approach. \n",
    "\n",
    "We believe that they hide their communications through some sort of interwoven series of connections, however we've been having trouble getting any traction.\n",
    "\n",
    "All we know is the following, before  rogue agent leaves the institute, they visit the website of a band:\n",
    "\n",
    "[https://www.thegoldbugs.com](https://www.thegoldbugs.com)\n",
    "\n",
    "It seems like they want other agents to find this site, because before leaving they clear everything in their browsing history except for this site.\n",
    "\n",
    "## Your Mission\n",
    "\n",
    "Visit the site and see if you can gather any evidence indicating the location of the rogue agents.\n",
    "\n",
    "Best of luck Agent."
   ]
  },
  {
   "cell_type": "markdown",
   "metadata": {},
   "source": [
    "----"
   ]
  },
  {
   "cell_type": "code",
   "execution_count": 1,
   "metadata": {},
   "outputs": [],
   "source": [
    "import bs4\n",
    "import requests"
   ]
  },
  {
   "cell_type": "code",
   "execution_count": 2,
   "metadata": {},
   "outputs": [],
   "source": [
    "res = requests.get('https://www.thegoldbugs.com/blog')"
   ]
  },
  {
   "cell_type": "code",
   "execution_count": 5,
   "metadata": {},
   "outputs": [],
   "source": [
    "soup = bs4.BeautifulSoup(res.text,'lxml')\n",
    "blog = soup.select('.sqs-block-content > pre')"
   ]
  },
  {
   "cell_type": "code",
   "execution_count": 6,
   "metadata": {},
   "outputs": [],
   "source": [
    "text = blog[0]"
   ]
  },
  {
   "cell_type": "code",
   "execution_count": 8,
   "metadata": {},
   "outputs": [],
   "source": [
    "blog_text = text.contents[0]"
   ]
  },
  {
   "cell_type": "code",
   "execution_count": 15,
   "metadata": {},
   "outputs": [],
   "source": [
    "blog_lines = blog_text.split('-----')[1:]"
   ]
  },
  {
   "cell_type": "code",
   "execution_count": 16,
   "metadata": {},
   "outputs": [],
   "source": [
    "result = ''\n",
    "for sentence in blog_lines:\n",
    "    result = result+sentence[0]"
   ]
  },
  {
   "cell_type": "code",
   "execution_count": 17,
   "metadata": {},
   "outputs": [
    {
     "data": {
      "text/plain": [
       "'https://drive.google.com/open?id=1k4uU9l6G19Q4hPwmjHsNLdPvnKs7YjNoxJLkT5Oy4u4'"
      ]
     },
     "execution_count": 17,
     "metadata": {},
     "output_type": "execute_result"
    }
   ],
   "source": [
    "result"
   ]
  },
  {
   "cell_type": "code",
   "execution_count": null,
   "metadata": {},
   "outputs": [],
   "source": []
  }
 ],
 "metadata": {
  "anaconda-cloud": {},
  "kernelspec": {
   "display_name": "Python 3",
   "language": "python",
   "name": "python3"
  },
  "language_info": {
   "codemirror_mode": {
    "name": "ipython",
    "version": 3
   },
   "file_extension": ".py",
   "mimetype": "text/x-python",
   "name": "python",
   "nbconvert_exporter": "python",
   "pygments_lexer": "ipython3",
   "version": "3.8.8"
  }
 },
 "nbformat": 4,
 "nbformat_minor": 2
}
